{
 "cells": [
  {
   "cell_type": "markdown",
   "metadata": {},
   "source": [
    "# LAB 9"
   ]
  },
  {
   "cell_type": "code",
   "execution_count": 10,
   "metadata": {},
   "outputs": [],
   "source": [
    "from sklearn.feature_extraction.text import CountVectorizer\n",
    "from sklearn.naive_bayes import MultinomialNB\n",
    "import numpy as np\n",
    "import pandas as pd\n",
    "from bs4 import BeautifulSoup\n",
    "import re\n",
    "from nltk.corpus import stopwords"
   ]
  },
  {
   "cell_type": "markdown",
   "metadata": {},
   "source": [
    "PRACTICE TASK"
   ]
  },
  {
   "cell_type": "code",
   "execution_count": 2,
   "metadata": {},
   "outputs": [
    {
     "name": "stdout",
     "output_type": "stream",
     "text": [
      "(8, 11)\n",
      "{'offer': 5, 'secret': 7, 'click': 0, 'link': 3, 'sports': 8, 'play': 6, 'today': 9, 'went': 10, 'event': 2, 'costs': 1, 'money': 4}\n"
     ]
    }
   ],
   "source": [
    "\n",
    "\n",
    "X = ['offer secret', 'click secret link', 'secret sports link', 'play sports today', 'went play sports', 'secret sports event', 'sports today', 'sports costs money']\n",
    "Y = [1,1,1,0,0,0,0,0] # review labels. 1 indicate spam, 0 non-spam\n",
    "\n",
    "# Initialize the \"CountVectorizer\" object, which is scikit-learn's\n",
    "# bag of words tool. \n",
    "vectorizer = CountVectorizer(analyzer = \"word\", \\\n",
    "tokenizer = None, \\\n",
    "preprocessor = None, \\\n",
    "stop_words = None, \\\n",
    "max_features = 100) \n",
    "# fit_transform() does two functions: First, it fits the model\n",
    "# and learns the vocabulary; second, it transforms our training data\n",
    "# into feature vectors. The input to fit_transform should be a list of \n",
    "# strings.\n",
    "X = vectorizer.fit_transform(X)\n",
    "\n",
    "# Numpy arrays are easy to work with, so convert the result to an \n",
    "# array\n",
    "X = X.toarray()\n",
    "\n",
    "print(X.shape)\n",
    "print(vectorizer.vocabulary_)\n",
    "\n"
   ]
  },
  {
   "cell_type": "code",
   "execution_count": 3,
   "metadata": {},
   "outputs": [
    {
     "name": "stdout",
     "output_type": "stream",
     "text": [
      "[0 1 0]\n",
      "[[8.26446251e-01 1.73553749e-01]\n",
      " [5.70208051e-02 9.42979195e-01]\n",
      " [9.99997244e-01 2.75623594e-06]]\n"
     ]
    }
   ],
   "source": [
    "clf = MultinomialNB(alpha=0.000001) # alpha=0 means no laplace smoothing\n",
    "clf.fit(X, np.array(Y))\n",
    "\n",
    "test_reviews = ['sports', 'secret secret', 'today secret']\n",
    "# bag of word representation\n",
    "tX = vectorizer.transform(test_reviews).toarray()\n",
    "# prediction\n",
    "print(clf.predict(tX))\n",
    "\n",
    "print(clf.predict_proba(tX) )"
   ]
  },
  {
   "cell_type": "markdown",
   "metadata": {},
   "source": [
    "# LAB TASK"
   ]
  },
  {
   "cell_type": "code",
   "execution_count": 11,
   "metadata": {},
   "outputs": [
    {
     "name": "stdout",
     "output_type": "stream",
     "text": [
      "0\n",
      "1000\n",
      "2000\n",
      "3000\n",
      "4000\n",
      "5000\n",
      "6000\n",
      "7000\n",
      "8000\n",
      "9000\n",
      "10000\n",
      "11000\n",
      "12000\n",
      "13000\n",
      "14000\n",
      "15000\n",
      "16000\n",
      "17000\n",
      "18000\n",
      "19000\n",
      "20000\n",
      "21000\n",
      "22000\n",
      "23000\n",
      "24000\n"
     ]
    }
   ],
   "source": [
    "train = pd.read_csv('labeledTrainData.tsv', header=0, delimiter='\\t', quoting=3)\n",
    "\n",
    "def review_to_words(raw_review):\n",
    "    #1. Remove HTML\n",
    "    review_bs_obj = BeautifulSoup(raw_review)\n",
    "    review = review_bs_obj.get_text()\n",
    "    #2. Remove non letters\n",
    "    review = re.sub('[^A-Za-z]+',' ', review)\n",
    "    #3. Convert to lowercase and split it into words\n",
    "    review_words = review.lower().split()\n",
    "    #4. Remove stops words\n",
    "    stops = set(stopwords.words('english'))\n",
    "    review_words = [w for w in review_words if not w in stops] \n",
    "    #5. Joint back and return the joined sentence\n",
    "    review_sentence = \" \".join(review_words)\n",
    "    return review_sentence\n",
    "\n",
    "for row in range(len(train)):\n",
    "    train.at[row, 'review'] = review_to_words(train.at[row, 'review'])\n",
    "    if(row%1000 == 0):\n",
    "        print(row)"
   ]
  },
  {
   "cell_type": "code",
   "execution_count": 16,
   "metadata": {},
   "outputs": [],
   "source": [
    "vocabulary_sizes = [3000, 5000]\n",
    "alpha_values = [0.00001, 5]\n",
    "\n",
    "train_size = 20000\n",
    "X_train = train['review'][:train_size]\n",
    "Y_train = train['sentiment'][:train_size]\n",
    "X_test = train['review'][train_size:]\n",
    "Y_test = train['sentiment'][train_size:]\n",
    "\n",
    "training_X = vectorizer.fit_transform(X_train).toarray()\n",
    "testing_X = vectorizer.fit_transform(X_test).toarray()\n",
    "\n"
   ]
  },
  {
   "cell_type": "code",
   "execution_count": 18,
   "metadata": {},
   "outputs": [
    {
     "name": "stdout",
     "output_type": "stream",
     "text": [
      "Vocabulary size:  3000 , Alpha:  1e-05\n",
      "Training accuracy:  0.86405\n",
      "Testing accuracy:  0.5302 \n",
      "\n",
      "Vocabulary size:  3000 , Alpha:  5\n",
      "Training accuracy:  0.8636\n",
      "Testing accuracy:  0.5276 \n",
      "\n",
      "Vocabulary size:  5000 , Alpha:  1e-05\n",
      "Training accuracy:  0.86405\n",
      "Testing accuracy:  0.5302 \n",
      "\n",
      "Vocabulary size:  5000 , Alpha:  5\n",
      "Training accuracy:  0.8636\n",
      "Testing accuracy:  0.5276 \n",
      "\n"
     ]
    }
   ],
   "source": [
    "for vocabulary_size in vocabulary_sizes:\n",
    "    for alpha_value in alpha_values:\n",
    "        \n",
    "        print(\"Vocabulary size: \", vocabulary_size, \", Alpha: \", alpha_value)\n",
    "        \n",
    "        vectorizer = CountVectorizer(analyzer = \"word\", \\\n",
    "        tokenizer = None, \\\n",
    "        preprocessor = None, \\\n",
    "        stop_words = None, \\\n",
    "        max_features = vocabulary_size)\n",
    "\n",
    "        clf = MultinomialNB(alpha=alpha_value) # alpha=0 means no laplace smoothing\n",
    "        clf.fit(training_X, Y_train)\n",
    "\n",
    "        predictions_train_data = clf.predict(training_X)\n",
    "        compare_train = predictions_train_data == Y_train\n",
    "        print(\"Training accuracy: \", compare_train.mean())\n",
    "        \n",
    "        predictions_test_data = clf.predict(testing_X)\n",
    "        compare_test = predictions_test_data == Y_test\n",
    "        print(\"Testing accuracy: \", compare_test.mean(), \"\\n\")\n"
   ]
  }
 ],
 "metadata": {
  "kernelspec": {
   "display_name": "Python 3",
   "language": "python",
   "name": "python3"
  },
  "language_info": {
   "codemirror_mode": {
    "name": "ipython",
    "version": 3
   },
   "file_extension": ".py",
   "mimetype": "text/x-python",
   "name": "python",
   "nbconvert_exporter": "python",
   "pygments_lexer": "ipython3",
   "version": "3.7.1"
  }
 },
 "nbformat": 4,
 "nbformat_minor": 2
}
